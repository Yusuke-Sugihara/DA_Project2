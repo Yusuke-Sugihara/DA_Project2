{
 "cells": [
  {
   "attachments": {},
   "cell_type": "markdown",
   "metadata": {},
   "source": [
    "<h3 align=\"center\">Data Analytics</h3> \n",
    "<h3 align=\"center\">Course Assignment N.07: New Channels</h3> \n",
    "<h3 align=\"center\">Academic Year 2023</h3> "
   ]
  },
  {
   "attachments": {},
   "cell_type": "markdown",
   "metadata": {},
   "source": [
    "**Done by:**\n",
    "Yusuke Sugihara,\n",
    "Maria Camila Millan"
   ]
  },
  {
   "attachments": {},
   "cell_type": "markdown",
   "metadata": {},
   "source": [
    "### import libraries"
   ]
  },
  {
   "cell_type": "code",
   "execution_count": 1,
   "metadata": {},
   "outputs": [],
   "source": [
    "import matplotlib.pyplot as plt\n",
    "import numpy as np\n",
    "import pandas as pd\n",
    "import seaborn as sns\n",
    "import os\n",
    "import pprint\n",
    "import sklearn.datasets as datasets\n",
    "from sklearn.metrics import accuracy_score, confusion_matrix\n",
    "from pprint import pprint\n",
    "from sklearn.feature_extraction.text import TfidfVectorizer\n",
    "import re\n",
    "from sklearn.datasets import fetch_20newsgroups\n",
    "\n",
    "from collections import Counter # Visualizing class Distribution\n",
    "import matplotlib.cm as cm # color map\n",
    "\n",
    "\n",
    "# perform more Pre-processing steps\n",
    "from collections import defaultdict\n",
    "from nltk.tokenize import RegexpTokenizer\n",
    "from wordcloud import WordCloud, STOPWORDS\n",
    "from nltk.stem.porter import PorterStemmer\n",
    "from gensim import corpora\n",
    "from gensim.parsing.preprocessing import remove_stopwords, preprocess_string\n",
    "from pprint import pprint\n",
    "\n",
    "\n",
    "from gensim.models import word2vec\n",
    "from sklearn.neighbors import KDTree\n",
    "from sklearn.cluster import KMeans\n",
    "from itertools import cycle\n",
    "import time\n",
    "from gensim.models import word2vec"
   ]
  },
  {
   "cell_type": "code",
   "execution_count": 2,
   "metadata": {},
   "outputs": [
    {
     "name": "stdout",
     "output_type": "stream",
     "text": [
      "/Users/yusuke_sugihara/DA_Project/DA_Project2\n",
      "['data_analytics_project2.ipynb', '.DS_Store', '01_data_description.ipynb', 'png', 'README.md', '.git']\n"
     ]
    }
   ],
   "source": [
    "from pprint import pprint\n",
    "print(os.getcwd())\n",
    "print(os.listdir())\n",
    "path_dataset = \"/Users/yusuke_sugihara/DA_Project/07_news_Channels/\"\n",
    "# print(os.listdir(path_dataset))\n"
   ]
  },
  {
   "attachments": {},
   "cell_type": "markdown",
   "metadata": {},
   "source": [
    "**NOTE**: Since our dataset is exactly the same as https://scikit-learn.org/stable/datasets/real_world.html#newsgroups-dataset, we will use the  [```The sklearn.datasets.fetch_20newsgroups function```](https://scikit-learn.org/stable/modules/generated/sklearn.datasets.fetch_20newsgroups.html) so that we can efficiently analyze the dataset.\n",
    "\n",
    "\n"
   ]
  },
  {
   "attachments": {},
   "cell_type": "markdown",
   "metadata": {},
   "source": [
    "## 1. Preprocessing - Data Cleaning "
   ]
  },
  {
   "attachments": {},
   "cell_type": "markdown",
   "metadata": {},
   "source": [
    "We can see that there is unnecessary information such as header and footer quotes in the raw dataset below.(e.g. header, footer, quotes)"
   ]
  },
  {
   "cell_type": "code",
   "execution_count": 3,
   "metadata": {},
   "outputs": [
    {
     "name": "stdout",
     "output_type": "stream",
     "text": [
      "From: gnelson@pion.rutgers.edu (Gregory Nelson)\n",
      "Subject: Thanks Apple: Free Ethernet on my C610!\n",
      "Article-I.D.: pion.Apr.6.12.05.34.1993.11732\n",
      "Organization: Rutgers Univ., New Brunswick, N.J.\n",
      "Lines: 26\n",
      "\n",
      "\n",
      "\tWell, I just got my Centris 610 yesterday.  It took just over two \n",
      "weeks from placing the order.  The dealer (Rutgers computer store) \n",
      "appologized because Apple made a substitution on my order.  I ordered\n",
      "the one without ethernet, but they substituted one _with_ ethernet.\n",
      "He wanted to know if that would be \"alright with me\"!!!  They must\n",
      "be backlogged on Centri w/out ethernet so they're just shipping them\n",
      "with!  \n",
      "\n",
      "\tAnyway, I'm very happy with the 610 with a few exceptions.  \n",
      "Being nosy, I decided to open it up _before_ powering it on for the first\n",
      "time.  The SCSI cable to the hard drive was only partially connected\n",
      "(must have come loose in shipping).  No big deal, but I would have been\n",
      "pissed if I tried to boot it and it wouldn't come up!\n",
      "\tThe hard drive also has an annoying high pitched whine.  I've\n",
      "heard apple will exchange it if you complain, so I might try to get\n",
      "it swapped.\n",
      "\tI am also dissappionted by the lack of soft power-on/off.  This\n",
      "wasn't mentioned in any of the literature I saw.  Also, the location\n",
      "of the reset/interupt buttons is awful.  Having keyboard control for\n",
      "these functions was much more convenient.\n",
      "\tOh, and the screen seems tojump in a wierd way on power-up.\n",
      "I've seen this mentioned by others, so it must be a...feature...\n",
      "\tAnyway, above all, it's fast.  A great machine at a great price!\n",
      "\n",
      "gnelson@physics.rutgers.edu\n",
      "\n"
     ]
    }
   ],
   "source": [
    "raw_dataset = fetch_20newsgroups(data_home = path_dataset, subset='all', shuffle=False)\n",
    "print(raw_dataset.data[1])"
   ]
  },
  {
   "attachments": {},
   "cell_type": "markdown",
   "metadata": {},
   "source": [
    "Therefore, I will remove those unneccesary information with one parameter called \"remove\" in the ``sklearn.datasets.fetch_20newsgroups¶``"
   ]
  },
  {
   "attachments": {},
   "cell_type": "markdown",
   "metadata": {},
   "source": [
    "### All dataset"
   ]
  },
  {
   "cell_type": "code",
   "execution_count": 4,
   "metadata": {},
   "outputs": [
    {
     "name": "stdout",
     "output_type": "stream",
     "text": [
      "18846 documents - 20 categories\n"
     ]
    }
   ],
   "source": [
    "# Remove the headers, footers, and quotes from the documents.\n",
    "all_dataset = fetch_20newsgroups(\n",
    "    data_home=path_dataset,\n",
    "    remove=(\"headers\", \"footers\", \"quotes\"), \n",
    "    subset=\"all\",\n",
    "    shuffle=True,\n",
    "    random_state=42,\n",
    ")\n",
    "\n",
    "labels = all_dataset.target\n",
    "unique_labels, category_sizes = np.unique(labels, return_counts=True)\n",
    "true_k = unique_labels.shape[0]\n",
    "\n",
    "print(f\"{len(all_dataset.data)} documents - {true_k} categories\")\n"
   ]
  },
  {
   "attachments": {},
   "cell_type": "markdown",
   "metadata": {},
   "source": [
    "### Train dataset"
   ]
  },
  {
   "cell_type": "code",
   "execution_count": 5,
   "metadata": {},
   "outputs": [
    {
     "name": "stdout",
     "output_type": "stream",
     "text": [
      "11314 documents - 20 categories\n"
     ]
    }
   ],
   "source": [
    "# Remove the headers, footers, and quotes from the documents.\n",
    "train_dataset = fetch_20newsgroups(\n",
    "    data_home=path_dataset,\n",
    "    remove=(\"headers\", \"footers\", \"quotes\"), \n",
    "    subset=\"train\",\n",
    "    shuffle=True,\n",
    "    random_state=42,\n",
    ")\n",
    "\n",
    "labels = train_dataset.target\n",
    "unique_labels, category_sizes = np.unique(labels, return_counts=True)\n",
    "true_k = unique_labels.shape[0]\n",
    "\n",
    "print(f\"{len(train_dataset.data)} documents - {true_k} categories\")"
   ]
  },
  {
   "attachments": {},
   "cell_type": "markdown",
   "metadata": {},
   "source": [
    "### Test Dataset"
   ]
  },
  {
   "cell_type": "code",
   "execution_count": 6,
   "metadata": {},
   "outputs": [],
   "source": [
    "# # Remove the headers, footers, and quotes from the documents.\n",
    "# test_dataset = fetch_20newsgroups(\n",
    "#     data_home=path_dataset,\n",
    "#     remove=(\"headers\", \"footers\", \"quotes\"), \n",
    "#     subset=\"test\",\n",
    "#     shuffle=True,\n",
    "#     random_state=42,\n",
    "# )\n",
    "\n",
    "# labels = test_dataset.target\n",
    "# unique_labels, category_sizes = np.unique(labels, return_counts=True)\n",
    "# true_k = unique_labels.shape[0]\n",
    "\n",
    "# print(f\"{len(test_dataset.data)} documents - {true_k} categories\")"
   ]
  },
  {
   "attachments": {},
   "cell_type": "markdown",
   "metadata": {},
   "source": [
    "#### Check if we can remove those unnecessary information from each document."
   ]
  },
  {
   "cell_type": "code",
   "execution_count": 7,
   "metadata": {},
   "outputs": [
    {
     "name": "stdout",
     "output_type": "stream",
     "text": [
      "The 1-th sent of rec.sport.hockey: \n",
      "\n",
      "I am sure some bashers of Pens fans are pretty confused about the lack\n",
      "of any kind of posts about the recent Pens massacre of the Devils. Actually,\n",
      "I am  bit puzzled too and a bit relieved. However, I am going to put an end\n",
      "to non-PIttsburghers' relief with a bit of praise for the Pens. Man, they\n",
      "are killing those Devils worse than I thought. Jagr just showed you why\n",
      "he is much better than his regular season stats. He is also a lot\n",
      "fo fun to watch in the playoffs. Bowman should let JAgr have a lot of\n",
      "fun in the next couple of games since the Pens are going to beat the pulp out of Jersey anyway. I was very disappointed not to see the Islanders lose the final\n",
      "regular season game.          PENS RULE!!!\n",
      "\n",
      "\n",
      "==================================================\n",
      "\n",
      "The 2-th sent of comp.sys.ibm.pc.hardware: My brother is in the market for a high-performance video card that supports\n",
      "VESA local bus with 1-2MB RAM.  Does anyone have suggestions/ideas on:\n",
      "\n",
      "  - Diamond Stealth Pro Local Bus\n",
      "\n",
      "  - Orchid Farenheit 1280\n",
      "\n",
      "  - ATI Graphics Ultra Pro\n",
      "\n",
      "  - Any other high-performance VLB card\n",
      "\n",
      "\n",
      "Please post or email.  Thank you!\n",
      "\n",
      "  - Matt\n",
      "\n",
      "==================================================\n",
      "\n"
     ]
    }
   ],
   "source": [
    "for i in range(2):\n",
    "    doc = all_dataset.data[i]\n",
    "    category = all_dataset.target_names[all_dataset.target[i]]\n",
    "    print(\"The {}-th sent of {}: {}\".format(i+1, category, doc))\n",
    "    print(\"==================================================\\n\")"
   ]
  },
  {
   "attachments": {},
   "cell_type": "markdown",
   "metadata": {},
   "source": [
    "#### Now those unnecesarry information were actually eliminated from the origina doc"
   ]
  },
  {
   "attachments": {},
   "cell_type": "markdown",
   "metadata": {},
   "source": [
    "### Check all categories for both train dataset and test one\n",
    "I can see there are 20 categories in total in the dataset."
   ]
  },
  {
   "cell_type": "code",
   "execution_count": 8,
   "metadata": {},
   "outputs": [
    {
     "name": "stdout",
     "output_type": "stream",
     "text": [
      "['alt.atheism',\n",
      " 'comp.graphics',\n",
      " 'comp.os.ms-windows.misc',\n",
      " 'comp.sys.ibm.pc.hardware',\n",
      " 'comp.sys.mac.hardware',\n",
      " 'comp.windows.x',\n",
      " 'misc.forsale',\n",
      " 'rec.autos',\n",
      " 'rec.motorcycles',\n",
      " 'rec.sport.baseball',\n",
      " 'rec.sport.hockey',\n",
      " 'sci.crypt',\n",
      " 'sci.electronics',\n",
      " 'sci.med',\n",
      " 'sci.space',\n",
      " 'soc.religion.christian',\n",
      " 'talk.politics.guns',\n",
      " 'talk.politics.mideast',\n",
      " 'talk.politics.misc',\n",
      " 'talk.religion.misc']\n",
      "20\n"
     ]
    }
   ],
   "source": [
    "pprint(list(train_dataset.target_names))\n",
    "pprint(len(train_dataset.target_names))"
   ]
  },
  {
   "cell_type": "code",
   "execution_count": 9,
   "metadata": {},
   "outputs": [],
   "source": [
    "# pprint(list(test_dataset.target_names))\n",
    "# pprint(len(test_dataset.target_names))"
   ]
  },
  {
   "attachments": {},
   "cell_type": "markdown",
   "metadata": {},
   "source": [
    "#### Now we were able to make sure if both train dataset and test dataset have the same categories, which 20 categories in total."
   ]
  },
  {
   "attachments": {},
   "cell_type": "markdown",
   "metadata": {},
   "source": [
    "The real data lies in the filenames and target attributes. The target attribute is the integer index of the category:"
   ]
  },
  {
   "cell_type": "code",
   "execution_count": 10,
   "metadata": {},
   "outputs": [
    {
     "name": "stdout",
     "output_type": "stream",
     "text": [
      "['/Users/yusuke_sugihara/DA_Project/07_news_Channels/20news_home/20news-bydate-test/rec.sport.hockey/54367'\n",
      " '/Users/yusuke_sugihara/DA_Project/07_news_Channels/20news_home/20news-bydate-train/comp.sys.ibm.pc.hardware/60215'\n",
      " '/Users/yusuke_sugihara/DA_Project/07_news_Channels/20news_home/20news-bydate-train/talk.politics.mideast/76120']\n",
      "labels: [10  3 17]\n",
      "[\"\\n\\nI am sure some bashers of Pens fans are pretty confused about the lack\\nof any kind of posts about the recent Pens massacre of the Devils. Actually,\\nI am  bit puzzled too and a bit relieved. However, I am going to put an end\\nto non-PIttsburghers' relief with a bit of praise for the Pens. Man, they\\nare killing those Devils worse than I thought. Jagr just showed you why\\nhe is much better than his regular season stats. He is also a lot\\nfo fun to watch in the playoffs. Bowman should let JAgr have a lot of\\nfun in the next couple of games since the Pens are going to beat the pulp out of Jersey anyway. I was very disappointed not to see the Islanders lose the final\\nregular season game.          PENS RULE!!!\\n\\n\", 'My brother is in the market for a high-performance video card that supports\\nVESA local bus with 1-2MB RAM.  Does anyone have suggestions/ideas on:\\n\\n  - Diamond Stealth Pro Local Bus\\n\\n  - Orchid Farenheit 1280\\n\\n  - ATI Graphics Ultra Pro\\n\\n  - Any other high-performance VLB card\\n\\n\\nPlease post or email.  Thank you!\\n\\n  - Matt\\n', '\\n\\n\\n\\n\\tFinally you said what you dream about. Mediterranean???? That was new....\\n\\tThe area will be \"greater\" after some years, like your \"holocaust\" numbers......\\n\\n\\n\\n\\n\\t\\t*****\\n\\tIs\\'t July in USA now????? Here in Sweden it\\'s April and still cold.\\n\\tOr have you changed your calendar???\\n\\n\\n\\t\\t\\t\\t\\t\\t    ****************\\n\\t\\t\\t\\t\\t\\t    ******************\\n\\t\\t\\t    ***************\\n\\n\\n\\tNOTHING OF THE MENTIONED IS TRUE, BUT LET SAY IT\\'s TRUE.\\n\\t\\n\\tSHALL THE AZERI WOMEN AND CHILDREN GOING TO PAY THE PRICE WITH\\n\\t\\t\\t\\t\\t\\t    **************\\n\\tBEING RAPED, KILLED AND TORTURED BY THE ARMENIANS??????????\\n\\t\\n\\tHAVE YOU HEARDED SOMETHING CALLED: \"GENEVA CONVENTION\"???????\\n\\tYOU FACIST!!!!!\\n\\n\\n\\n\\tOhhh i forgot, this is how Armenians fight, nobody has forgot\\n\\tyou killings, rapings and torture against the Kurds and Turks once\\n\\tupon a time!\\n      \\n       \\n\\n\\nOhhhh so swedish RedCross workers do lie they too? What ever you say\\n\"regional killer\", if you don\\'t like the person then shoot him that\\'s your policy.....l\\n\\n\\n\\t\\t\\t\\t\\t\\t\\t\\t\\t\\ti\\n\\t\\t\\t\\t\\t\\t\\t\\t\\t\\ti\\n\\t\\t\\t\\t\\t\\t\\t\\t\\t\\ti\\n\\tConfused?????\\t\\t\\t\\t\\t\\t\\t\\ti\\n\\t\\t\\t\\t\\t\\t\\t\\t\\t\\ti\\n        Search Turkish planes? You don\\'t know what you are talking about.\\ti\\n        Turkey\\'s government has announced that it\\'s giving weapons  <-----------i\\n        to Azerbadjan since Armenia started to attack Azerbadjan\\t\\t\\n        it self, not the Karabag province. So why search a plane for weapons\\t\\n        since it\\'s content is announced to be weapons?   \\n\\n\\tIf there is one that\\'s confused then that\\'s you! We have the right (and we do)\\n\\tto give weapons to the Azeris, since Armenians started the fight in Azerbadjan!\\n \\n\\n\\n\\tShoot down with what? Armenian bread and butter? Or the arms and personel \\n\\tof the Russian army?\\n\\n\\n']\n"
     ]
    }
   ],
   "source": [
    "print(all_dataset.filenames[:3]) # file names\n",
    "print(f'labels: {all_dataset.target[:3]}') # # labels for clustering evaluation \n",
    "print(all_dataset.data[:3]) # data  "
   ]
  },
  {
   "attachments": {},
   "cell_type": "markdown",
   "metadata": {},
   "source": [
    "### Check how many documents there are in the all dataset."
   ]
  },
  {
   "cell_type": "code",
   "execution_count": 11,
   "metadata": {},
   "outputs": [
    {
     "name": "stdout",
     "output_type": "stream",
     "text": [
      "18846 18846\n",
      "<class 'list'> <class 'numpy.ndarray'>\n"
     ]
    }
   ],
   "source": [
    "print(len(all_dataset.data), len(all_dataset.target)) \n",
    "print(type(all_dataset.data), type(all_dataset.target))\n",
    "# print(all_dataset.target_names)"
   ]
  },
  {
   "cell_type": "code",
   "execution_count": 12,
   "metadata": {},
   "outputs": [
    {
     "name": "stdout",
     "output_type": "stream",
     "text": [
      "11314 11314\n",
      "<class 'list'> <class 'numpy.ndarray'>\n"
     ]
    }
   ],
   "source": [
    "print(len(train_dataset.data), len(train_dataset.target)) \n",
    "print(type(train_dataset.data), type(train_dataset.target))\n",
    "# print(train_dataset.target_names)"
   ]
  },
  {
   "cell_type": "code",
   "execution_count": 13,
   "metadata": {},
   "outputs": [],
   "source": [
    "# print(len(test_dataset.data), len(test_dataset.target)) \n",
    "# print(type(test_dataset.data), type(test_dataset.target))\n",
    "# # print(test_dataset.target_names)"
   ]
  },
  {
   "attachments": {},
   "cell_type": "markdown",
   "metadata": {},
   "source": [
    "### Distribution of the number of docoments for each category"
   ]
  },
  {
   "attachments": {},
   "cell_type": "markdown",
   "metadata": {},
   "source": [
    "#### Train dataset"
   ]
  },
  {
   "cell_type": "code",
   "execution_count": 14,
   "metadata": {},
   "outputs": [
    {
     "name": "stdout",
     "output_type": "stream",
     "text": [
      "(7, 4, 1, 14, 16, 13, 3, 2, 8, 19, 6, 0, 12, 5, 10, 9, 15, 17, 18, 11)\n",
      "['alt.atheism', 'comp.graphics', 'comp.os.ms-windows.misc', 'comp.sys.ibm.pc.hardware', 'comp.sys.mac.hardware', 'comp.windows.x', 'misc.forsale', 'rec.autos', 'rec.motorcycles', 'rec.sport.baseball', 'rec.sport.hockey', 'sci.crypt', 'sci.electronics', 'sci.med', 'sci.space', 'soc.religion.christian', 'talk.politics.guns', 'talk.politics.mideast', 'talk.politics.misc', 'talk.religion.misc']\n",
      "(594, 578, 584, 593, 546, 594, 590, 591, 598, 377, 585, 480, 591, 593, 600, 597, 599, 564, 465, 595)\n"
     ]
    },
    {
     "data": {
      "image/png": "[encoded data removed]",
      "text/plain": [
       "<Figure size 2000x1000 with 1 Axes>"
      ]
     },
     "metadata": {},
     "output_type": "display_data"
    }
   ],
   "source": [
    "label_20, values = zip(*Counter(train_dataset.target).items())\n",
    "print(label_20)\n",
    "print(train_dataset.target_names)\n",
    "print(values)\n",
    "\n",
    "indexes = np.argsort(values)[::-1]\n",
    "label_20 = np.array(train_dataset.target_names)[indexes]\n",
    "val = np.array(values)[indexes]\n",
    "\n",
    "plt.figure(figsize=(20, 10))\n",
    "plt.bar(label_20, val)\n",
    "plt.xticks(rotation=85)\n",
    "plt.xlabel('Topics')\n",
    "plt.ylabel('Number of articles')\n",
    "plt.title('Class distribution for different topics')\n",
    "plt.show()\n"
   ]
  },
  {
   "cell_type": "code",
   "execution_count": 15,
   "metadata": {},
   "outputs": [],
   "source": [
    "# label_20, values = zip(*Counter(test_dataset.target).items())\n",
    "# print(label_20)\n",
    "# print(test_dataset.target_names)\n",
    "# print(values)\n",
    "\n",
    "# indexes = np.argsort(values)[::-1]\n",
    "# label_20 = np.array(test_dataset.target_names)[indexes]\n",
    "# val = np.array(values)[indexes]\n",
    "\n",
    "# plt.figure(figsize=(20, 10))\n",
    "# plt.bar(label_20, val)\n",
    "# plt.xticks(rotation=85)\n",
    "# plt.xlabel('Topics')\n",
    "# plt.ylabel('Number of articles')\n",
    "# plt.title('Class distribution for different topics')\n",
    "# plt.show()"
   ]
  },
  {
   "attachments": {},
   "cell_type": "markdown",
   "metadata": {},
   "source": [
    "# Quantifying the quality of clustering results¶"
   ]
  },
  {
   "attachments": {},
   "cell_type": "markdown",
   "metadata": {},
   "source": [
    "In this section we define a function to score different clustering pipelines using several metrics.\n",
    "\n",
    "Clustering algorithms are fundamentally unsupervised learning methods. However, since we happen to have class labels for this specific dataset, it is possible to use evaluation metrics that leverage this “supervised” ground truth information to quantify the quality of the resulting clusters. Examples of such metrics are the following:\n",
    "\n",
    "homogeneity, which quantifies how much clusters contain only members of a single class;\n",
    "\n",
    "completeness, which quantifies how much members of a given class are assigned to the same clusters;\n",
    "\n",
    "V-measure, the harmonic mean of completeness and homogeneity;\n",
    "\n",
    "Rand-Index, which measures how frequently pairs of data points are grouped consistently according to the result of the clustering algorithm and the ground truth class assignment;\n",
    "\n",
    "Adjusted Rand-Index, a chance-adjusted Rand-Index such that random cluster assignment have an ARI of 0.0 in expectation.\n",
    "\n",
    "If the ground truth labels are not known, evaluation can only be performed using the model results itself. In that case, the Silhouette Coefficient comes in handy."
   ]
  },
  {
   "cell_type": "code",
   "execution_count": 16,
   "metadata": {},
   "outputs": [],
   "source": [
    "from collections import defaultdict\n",
    "from sklearn import metrics\n",
    "from time import time\n",
    "\n",
    "evaluations = []\n",
    "evaluations_std = []\n",
    "\n",
    "\n",
    "def fit_and_evaluate(km, X, name=None, n_runs=5):\n",
    "    name = km.__class__.__name__ if name is None else name\n",
    "\n",
    "    train_times = []\n",
    "    scores = defaultdict(list)\n",
    "    for seed in range(n_runs):\n",
    "        km.set_params(random_state=seed)\n",
    "        t0 = time()\n",
    "        km.fit(X)\n",
    "        train_times.append(time() - t0)\n",
    "        scores[\"Homogeneity\"].append(metrics.homogeneity_score(labels, km.labels_))\n",
    "        scores[\"Completeness\"].append(metrics.completeness_score(labels, km.labels_))\n",
    "        scores[\"V-measure\"].append(metrics.v_measure_score(labels, km.labels_))\n",
    "        scores[\"Adjusted Rand-Index\"].append(\n",
    "            metrics.adjusted_rand_score(labels, km.labels_)\n",
    "        )\n",
    "        scores[\"Silhouette Coefficient\"].append(\n",
    "            metrics.silhouette_score(X, km.labels_, sample_size=2000)\n",
    "        )\n",
    "    train_times = np.asarray(train_times)\n",
    "\n",
    "    print(f\"clustering done in {train_times.mean():.2f} ± {train_times.std():.2f} s \")\n",
    "    evaluation = {\n",
    "        \"estimator\": name,\n",
    "        \"train_time\": train_times.mean(),\n",
    "    }\n",
    "    evaluation_std = {\n",
    "        \"estimator\": name,\n",
    "        \"train_time\": train_times.std(),\n",
    "    }\n",
    "    for score_name, score_values in scores.items():\n",
    "        mean_score, std_score = np.mean(score_values), np.std(score_values)\n",
    "        print(f\"{score_name}: {mean_score:.3f} ± {std_score:.3f}\")\n",
    "        evaluation[score_name] = mean_score\n",
    "        evaluation_std[score_name] = std_score\n",
    "    evaluations.append(evaluation)\n",
    "    evaluations_std.append(evaluation_std)"
   ]
  },
  {
   "attachments": {},
   "cell_type": "markdown",
   "metadata": {},
   "source": [
    "# K-means clustering on text features¶"
   ]
  },
  {
   "attachments": {},
   "cell_type": "markdown",
   "metadata": {},
   "source": [
    "Two feature extraction methods are used in this example:\n",
    "\n",
    "TfidfVectorizer uses an in-memory vocabulary (a Python dict) to map the most frequent words to features indices and hence compute a word occurrence frequency (sparse) matrix. The word frequencies are then reweighted using the Inverse Document Frequency (IDF) vector collected feature-wise over the corpus.\n",
    "\n",
    "HashingVectorizer hashes word occurrences to a fixed dimensional space, possibly with collisions. The word count vectors are then normalized to each have l2-norm equal to one (projected to the euclidean unit-sphere) which seems to be important for k-means to work in high dimensional space.\n",
    "\n",
    "Furthermore it is possible to post-process those extracted features using dimensionality reduction. We will explore the impact of those choices on the clustering quality in the following"
   ]
  },
  {
   "attachments": {},
   "cell_type": "markdown",
   "metadata": {},
   "source": [
    "### Feature Extraction using TfidfVectorizer¶"
   ]
  },
  {
   "attachments": {},
   "cell_type": "markdown",
   "metadata": {},
   "source": [
    "We first benchmark the estimators using a dictionary vectorizer along with an IDF normalization as provided by TfidfVectorizer."
   ]
  },
  {
   "cell_type": "code",
   "execution_count": 17,
   "metadata": {},
   "outputs": [
    {
     "name": "stdout",
     "output_type": "stream",
     "text": [
      "vectorization done in 0.947 s\n",
      "n_samples: 11314, n_features: 17797\n"
     ]
    }
   ],
   "source": [
    "from sklearn.feature_extraction.text import TfidfVectorizer\n",
    "\n",
    "vectorizer = TfidfVectorizer(\n",
    "    max_df=0.5,\n",
    "    min_df=5,\n",
    "    stop_words=\"english\",\n",
    ")\n",
    "t0 = time()\n",
    "X_tfidf = vectorizer.fit_transform(train_dataset.data)\n",
    "\n",
    "print(f\"vectorization done in {time() - t0:.3f} s\")\n",
    "print(f\"n_samples: {X_tfidf.shape[0]}, n_features: {X_tfidf.shape[1]}\")\n"
   ]
  },
  {
   "attachments": {},
   "cell_type": "markdown",
   "metadata": {},
   "source": [
    "After ignoring terms that appear in more than 50% of the documents (as set by max_df=0.5) and terms that are not present in at least 5 documents (set by min_df=5), the resulting number of unique terms n_features is around 8,000. We can additionally quantify the sparsity of the X_tfidf matrix as the fraction of non-zero entries devided by the total number of elements."
   ]
  },
  {
   "cell_type": "code",
   "execution_count": 18,
   "metadata": {},
   "outputs": [
    {
     "name": "stdout",
     "output_type": "stream",
     "text": [
      "0.003\n"
     ]
    }
   ],
   "source": [
    "print(f\"{X_tfidf.nnz / np.prod(X_tfidf.shape):.3f}\")"
   ]
  },
  {
   "attachments": {},
   "cell_type": "markdown",
   "metadata": {},
   "source": [
    "We find that around 0.7% of the entries of the X_tfidf matrix are non-zero."
   ]
  },
  {
   "attachments": {},
   "cell_type": "markdown",
   "metadata": {},
   "source": [
    "### Clustering sparse data with k-means¶"
   ]
  },
  {
   "attachments": {},
   "cell_type": "markdown",
   "metadata": {},
   "source": [
    "As both KMeans and MiniBatchKMeans optimize a non-convex objective function, their clustering is not guaranteed to be optimal for a given random init. Even further, on sparse high-dimensional data such as text vectorized using the Bag of Words approach, k-means can initialize centroids on extremely isolated data points. Those data points can stay their own centroids all along.\n",
    "\n",
    "The following code illustrates how the previous phenomenon can sometimes lead to highly imbalanced clusters, depending on the random initialization:"
   ]
  },
  {
   "cell_type": "code",
   "execution_count": 19,
   "metadata": {},
   "outputs": [
    {
     "name": "stdout",
     "output_type": "stream",
     "text": [
      "Number of elements asigned to each cluster: [ 531  469  899  180  545  265  473   96  587  341  446  454  181  120\n",
      "  221  271  411 3795  244  785]\n",
      "Number of elements asigned to each cluster: [    1 11267     1     2     2     1     8     1    10     2     1     1\n",
      "     8     2     1     1     1     1     1     2]\n",
      "Number of elements asigned to each cluster: [    1     1     1     1 11270     1     3     1     1     2     1     1\n",
      "    10     1    10     1     1     2     1     4]\n",
      "Number of elements asigned to each cluster: [    2     1     1 11283     1     1     1     1     1     2     3     1\n",
      "     1     1     5     1     5     1     1     1]\n",
      "Number of elements asigned to each cluster: [   2    1    2    3    1    1    1    1    1   18    1    1    1 2456\n",
      "    1   53    1 8766    1    2]\n",
      "\n",
      "True number of documents in each category according to the class labels: [480 584 591 590 578 593 585 594 598 597 600 595 591 594 593 599 546 564\n",
      " 465 377]\n"
     ]
    }
   ],
   "source": [
    "from sklearn.cluster import KMeans\n",
    "\n",
    "for seed in range(5):\n",
    "    kmeans = KMeans(\n",
    "        n_clusters=true_k,\n",
    "        max_iter=100,\n",
    "        n_init=1,\n",
    "        random_state=seed,\n",
    "    ).fit(X_tfidf)\n",
    "    cluster_ids, cluster_sizes = np.unique(kmeans.labels_, return_counts=True)\n",
    "    print(f\"Number of elements asigned to each cluster: {cluster_sizes}\")\n",
    "print()\n",
    "print(\n",
    "    \"True number of documents in each category according to the class labels: \"\n",
    "    f\"{category_sizes}\"\n",
    ")"
   ]
  },
  {
   "attachments": {},
   "cell_type": "markdown",
   "metadata": {},
   "source": [
    "To avoid this problem, one possibility is to increase the number of runs with independent random initiations n_init. In such case the clustering with the best inertia (objective function of k-means) is chosen."
   ]
  },
  {
   "cell_type": "code",
   "execution_count": 20,
   "metadata": {},
   "outputs": [
    {
     "name": "stdout",
     "output_type": "stream",
     "text": [
      "clustering done in 1.13 ± 0.32 s \n",
      "Homogeneity: 0.249 ± 0.105\n",
      "Completeness: 0.395 ± 0.052\n",
      "V-measure: 0.281 ± 0.104\n",
      "Adjusted Rand-Index: 0.062 ± 0.029\n",
      "Silhouette Coefficient: 0.006 ± 0.002\n"
     ]
    }
   ],
   "source": [
    "kmeans = KMeans(\n",
    "    n_clusters=true_k,\n",
    "    max_iter=100,\n",
    "    n_init=5,\n",
    ")\n",
    "\n",
    "fit_and_evaluate(kmeans, X_tfidf, name=\"KMeans\\non tf-idf vectors\")"
   ]
  },
  {
   "attachments": {},
   "cell_type": "markdown",
   "metadata": {},
   "source": [
    "All those clustering evaluation metrics have a maximum value of 1.0 (for a perfect clustering result). Higher values are better. Values of the Adjusted Rand-Index close to 0.0 correspond to a random labeling. Notice from the scores above that the cluster assignment is indeed well above chance level, but the overall quality can certainly improve.\n",
    "\n",
    "Keep in mind that the class labels may not reflect accurately the document topics and therefore metrics that use labels are not necessarily the best to evaluate the quality of our clustering pipeline."
   ]
  },
  {
   "cell_type": "code",
   "execution_count": 21,
   "metadata": {},
   "outputs": [],
   "source": [
    "def pre_processing(docs):\n",
    "    stopwords = set(STOPWORDS)\n",
    "    tokenizer = RegexpTokenizer(r\"\\w+(?:[-'+]\\w+)*|\\w+\") # remove punctuations\n",
    "    # en_stop = stopwords('en') # \n",
    "    for doc in docs:\n",
    "        raw_text = doc.lower()\n",
    "        # tokenization\n",
    "        tokens_text = tokenizer.tokenize(raw_text)\n",
    "        # remove stopwords\n",
    "        stopped_tokens_text = [i for i in tokens_text if not i in stopwords]\n",
    "        # remove digis and one-charcter word\n",
    "        doc = [token for token in stopped_tokens_text if not token.isnumeric()]\n",
    "        doc = [token for token in stopped_tokens_text if len(token) > 1]\n",
    "        # you could always add some new preprocessing here\n",
    "        yield doc"
   ]
  },
  {
   "cell_type": "code",
   "execution_count": 22,
   "metadata": {},
   "outputs": [],
   "source": [
    "# Preprocess all the documents in the corpus\n",
    "Vocab_v1 = list(pre_processing(train_dataset.data))"
   ]
  },
  {
   "cell_type": "code",
   "execution_count": 23,
   "metadata": {},
   "outputs": [
    {
     "name": "stdout",
     "output_type": "stream",
     "text": [
      "11314\n",
      "['wondering', 'anyone', 'enlighten', 'car', 'saw', 'day', '2-door', 'sports', 'car', 'looked', 'late', '60s', 'early', '70s', 'called', 'bricklin', 'doors', 'really', 'small', 'addition', 'front', 'bumper', 'separate', 'rest', 'body', 'know', 'anyone', 'tellme', 'model', 'name', 'engine', 'specs', 'years', 'production', 'car', 'made', 'history', 'whatever', 'info', 'funky', 'looking', 'car', 'please', 'e-mail']\n",
      "['fair', 'number', 'brave', 'souls', 'upgraded', 'si', 'clock', 'oscillator', 'shared', 'experiences', 'poll', 'please', 'send', 'brief', 'message', 'detailing', 'experiences', 'procedure', 'top', 'speed', 'attained', 'cpu', 'rated', 'speed', 'add', 'cards', 'adapters', 'heat', 'sinks', 'hour', 'usage', 'per', 'day', 'floppy', 'disk', 'functionality', '800', 'floppies', 'especially', 'requested', 'will', 'summarizing', 'next', 'two', 'days', 'please', 'add', 'network', 'knowledge', 'base', 'done', 'clock', 'upgrade', 'answered', 'poll', 'thanks']\n"
     ]
    }
   ],
   "source": [
    "# verify length of the clean corpus and print a sample clean tokenized document\n",
    "print(len(Vocab_v1))\n",
    "print(Vocab_v1[0])\n",
    "print(Vocab_v1[1])"
   ]
  },
  {
   "cell_type": "code",
   "execution_count": 24,
   "metadata": {},
   "outputs": [
    {
     "ename": "AttributeError",
     "evalue": "'builtin_function_or_method' object has no attribute 'time'",
     "output_type": "error",
     "traceback": [
      "\u001b[0;31m---------------------------------------------------------------------------\u001b[0m",
      "\u001b[0;31mAttributeError\u001b[0m                            Traceback (most recent call last)",
      "Cell \u001b[0;32mIn[24], line 2\u001b[0m\n\u001b[1;32m      1\u001b[0m \u001b[39m# train the Word2Vec model on the cleaned sentences\u001b[39;00m\n\u001b[0;32m----> 2\u001b[0m start \u001b[39m=\u001b[39m time\u001b[39m.\u001b[39;49mtime()\n\u001b[1;32m      3\u001b[0m \u001b[39m# Set values for various parameters\u001b[39;00m\n\u001b[1;32m      4\u001b[0m \u001b[39m# Dimensionality of the hidden layer representation\u001b[39;00m\n\u001b[1;32m      5\u001b[0m num_features \u001b[39m=\u001b[39m \u001b[39m100\u001b[39m\n",
      "\u001b[0;31mAttributeError\u001b[0m: 'builtin_function_or_method' object has no attribute 'time'"
     ]
    }
   ],
   "source": [
    "# train the Word2Vec model on the cleaned sentences\n",
    "start = time.time()\n",
    "# Set values for various parameters\n",
    "# Dimensionality of the hidden layer representation\n",
    "num_features = 100\n",
    "# Minimum word count to keep a word in the vocabulary    \n",
    "min_word_count = 20\n",
    "# Context window size (on each side)\n",
    "context = 5\n",
    "# Downsample setting for frequent words                                                             \n",
    "downsampling = 1e-3  \n",
    "\n",
    "# Initialize and train the model. \n",
    "print(\"Training model...\");\n",
    "w2v_model = word2vec.Word2Vec(Vocab_v1, vector_size=num_features, min_count=min_word_count, window=context, sample=downsampling)\n",
    "# calling init_sims to make the model more memory efficient by normalizing the vectors in-place.\n",
    "# w2v_model.init_sims(replace=True);\n",
    "# Save the model\n",
    "model_name = \"model_full_20newsGroup\";\n",
    "w2v_model.save(model_name);\n",
    "print('Total time: {:.2f} secs'.format(time.time() - start))\n"
   ]
  },
  {
   "cell_type": "code",
   "execution_count": null,
   "metadata": {},
   "outputs": [],
   "source": [
    "# Obtain the Word Vectors for each word in the vocab, stored in a variable called ‘syn0’\n",
    "word_vectors = w2v_model.wv.vectors;\n",
    "print(word_vectors[0].shape)\n",
    "# print word vector for the first word: 100-element vector with values\n",
    "word_vectors[0]"
   ]
  },
  {
   "cell_type": "code",
   "execution_count": null,
   "metadata": {},
   "outputs": [],
   "source": [
    "# print length of word vectors\n",
    "len(word_vectors)"
   ]
  },
  {
   "cell_type": "code",
   "execution_count": null,
   "metadata": {},
   "outputs": [],
   "source": [
    "# cluster the words using KMeans\n",
    "num_clusters = 20\n",
    "# Initalize a k-means object and use it to extract centroids\n",
    "kmeans_clustering = KMeans(n_clusters = num_clusters)\n",
    "clusters = kmeans_clustering.fit_predict(word_vectors)\n",
    "centers = kmeans_clustering.cluster_centers_\n",
    "centroid_map = dict(zip(w2v_model.wv.index_to_key, clusters))\n"
   ]
  },
  {
   "cell_type": "code",
   "execution_count": null,
   "metadata": {},
   "outputs": [],
   "source": [
    "# get words in each cluster that are closest to the cluster center\n",
    "# initialize a KDTree on the word vectors, and query it for the Top K words on each cluster center.\n",
    "def get_top_words(index2word, k, centers, wordvecs):\n",
    "    tree = KDTree(wordvecs);\n",
    "    #Closest points for each Cluster center is used to query the closest 20 points to it.\n",
    "    closest_points = [tree.query(np.reshape(x, (1, -1)), k=k) for x in centers];\n",
    "    closest_words_idxs = [x[1] for x in closest_points];\n",
    "    #Word Index is queried for each position in the above array, and added to a Dictionary.\n",
    "    closest_words = {};\n",
    "    for i in range(0, len(closest_words_idxs)):\n",
    "        closest_words['Cluster #' + str(i)] = [index2word[j] for j in closest_words_idxs[i][0]]\n",
    "    #A DataFrame is generated from the dictionary.\n",
    "    df = pd.DataFrame(closest_words);\n",
    "    df.index = df.index+1\n",
    "    return df"
   ]
  },
  {
   "cell_type": "code",
   "execution_count": null,
   "metadata": {},
   "outputs": [],
   "source": [
    "# get the top words and print the first 2 in each cluster:\n",
    "top_words = get_top_words(w2v_model.wv.index_to_key, 5000, centers, word_vectors);\n",
    "top_words[:2]"
   ]
  },
  {
   "cell_type": "code",
   "execution_count": null,
   "metadata": {},
   "outputs": [],
   "source": [
    "# Create a word cloud with the words of a cluster and print and save them.\n",
    "def display_cloud(cluster_num, cmap):\n",
    "    wc = WordCloud(background_color=\"black\", max_words=2000, max_font_size=80, colormap=cmap);\n",
    "    wordcloud = wc.generate(' '.join([word for word in top_words['Cluster #' + str(cluster_num)]]))\n",
    "    plt.imshow(wordcloud, interpolation='bilinear')\n",
    "    plt.axis(\"off\")\n",
    "    plt.savefig('cluster_' + str(cluster_num), bbox_inches='tight')"
   ]
  },
  {
   "cell_type": "code",
   "execution_count": null,
   "metadata": {},
   "outputs": [],
   "source": [
    "# call on each cluster, and pass in a different color scheme in each iteration to distinguish them.\n",
    "from wordcloud import WordCloud \n",
    "cmaps = cycle([\n",
    "            'flag', 'prism', 'ocean', 'gist_earth', 'terrain', 'gist_stern',\n",
    "            'gnuplot', 'gnuplot2', 'CMRmap', 'cubehelix', 'brg', 'hsv',\n",
    "            'gist_rainbow', 'rainbow', 'jet', 'nipy_spectral', 'gist_ncar'])\n",
    "for i in range(0, 20):\n",
    "    col = next(cmaps)\n",
    "    display_cloud(i, col)"
   ]
  }
 ],
 "metadata": {
  "kernelspec": {
   "display_name": "DA_project",
   "language": "python",
   "name": "python3"
  },
  "language_info": {
   "codemirror_mode": {
    "name": "ipython",
    "version": 3
   },
   "file_extension": ".py",
   "mimetype": "text/x-python",
   "name": "python",
   "nbconvert_exporter": "python",
   "pygments_lexer": "ipython3",
   "version": "3.10.9"
  },
  "orig_nbformat": 4
 },
 "nbformat": 4,
 "nbformat_minor": 2
}
